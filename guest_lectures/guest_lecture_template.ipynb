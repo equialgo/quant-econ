{
 "metadata": {
  "name": "guest_lecture_template"
 },
 "nbformat": 3,
 "nbformat_minor": 0,
 "worksheets": [
  {
   "cells": [
    {
     "cell_type": "heading",
     "level": 1,
     "metadata": {},
     "source": [
      "Guest Lecture: Theory of Value"
     ]
    },
    {
     "cell_type": "heading",
     "level": 3,
     "metadata": {},
     "source": [
      "Author: Gerard Debreu"
     ]
    },
    {
     "cell_type": "heading",
     "level": 2,
     "metadata": {},
     "source": [
      "Overview"
     ]
    },
    {
     "cell_type": "markdown",
     "metadata": {},
     "source": [
      "In this lecture we provide an axiomatic foundation for determining prices and allocations in competitive markets\n",
      "\n",
      "OK, that was a joke\n",
      "\n",
      "This is a template for writing guest lectures for the website http://quant-econ.net\n",
      "    \n",
      "Guest lectures are arranged in agreement with Thomas Sargent and John Stachurski\n",
      "\n",
      "Once you have agreement, the next step is to write the lecture\n",
      "\n",
      "We request that you do so by modifying your copy of this file, using the [IPython Notebook](http://ipython.org/notebook.html)\n",
      "\n",
      "First please take your time to learn how to write IPython Notebook files (ipynb files)\n",
      "\n",
      "You can consult [the documentation](http://ipython.org/ipython-doc/stable/interactive/notebook.html) or google for tutorials and examples\n",
      "\n",
      "You can also double click on any part of this document to modify it and see examples of headers, maths, code, etc.\n",
      "\n",
      "We provide some such examples below\n",
      "\n",
      "Note that when you finish, we will\n",
      "\n",
      "1. Incorporate your lecture into our website, so that readers can see a static html version\n",
      "\n",
      "2. Provide readers with the ipynb file, so they can interact with the results directly"
     ]
    },
    {
     "cell_type": "heading",
     "level": 2,
     "metadata": {},
     "source": [
      "Section Title"
     ]
    },
    {
     "cell_type": "markdown",
     "metadata": {},
     "source": [
      "Section titles are \"heading 2\""
     ]
    },
    {
     "cell_type": "heading",
     "level": 3,
     "metadata": {},
     "source": [
      "Subsection Title"
     ]
    },
    {
     "cell_type": "markdown",
     "metadata": {},
     "source": [
      "Subsections are \"heading 3\""
     ]
    },
    {
     "cell_type": "heading",
     "level": 2,
     "metadata": {},
     "source": [
      "Math Examples"
     ]
    },
    {
     "cell_type": "markdown",
     "metadata": {},
     "source": [
      "Double click on the examples below to see how to write LaTeX within IPython Notebook"
     ]
    },
    {
     "cell_type": "markdown",
     "metadata": {},
     "source": [
      "Kakutani's fixed point theorem states the following\n",
      "\n",
      "Let $S$ be a non-empty, compact and convex subset of some Euclidean space $\\mathbb R^n$. Let $\\phi \\colon S \\to S$ be a set-valued function on $S$ with a closed graph and the property that $\\phi(x)$ is non-empty and convex for all $x \\in S$. Then $\\phi$ has a fixed point."
     ]
    },
    {
     "cell_type": "code",
     "collapsed": false,
     "input": [],
     "language": "python",
     "metadata": {},
     "outputs": []
    }
   ],
   "metadata": {}
  }
 ]
}